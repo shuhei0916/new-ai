{
  "nbformat": 4,
  "nbformat_minor": 0,
  "metadata": {
    "colab": {
      "provenance": [],
      "authorship_tag": "ABX9TyOOgZytcD1x3ugq+HBtn5ec",
      "include_colab_link": true
    },
    "kernelspec": {
      "name": "python3",
      "display_name": "Python 3"
    },
    "language_info": {
      "name": "python"
    }
  },
  "cells": [
    {
      "cell_type": "markdown",
      "metadata": {
        "id": "view-in-github",
        "colab_type": "text"
      },
      "source": [
        "<a href=\"https://colab.research.google.com/github/shuhei0916/new-ai/blob/main/chapter4.ipynb\" target=\"_parent\"><img src=\"https://colab.research.google.com/assets/colab-badge.svg\" alt=\"Open In Colab\"/></a>"
      ]
    },
    {
      "cell_type": "code",
      "execution_count": 1,
      "metadata": {
        "id": "qAf4wxDQSBS5"
      },
      "outputs": [],
      "source": [
        "import numpy as np\n",
        "from sklearn import preprocessing\n",
        "from keras.utils import to_categorical\n",
        "from sklearn import datasets"
      ]
    },
    {
      "cell_type": "code",
      "source": [
        "iris = datasets.load_iris()\n",
        "print(iris.data[:10])\n",
        "print(iris.data.shape)\n",
        "print(iris.target)"
      ],
      "metadata": {
        "colab": {
          "base_uri": "https://localhost:8080/"
        },
        "id": "WPTkbkpsTCI5",
        "outputId": "3f75b5cd-4bee-487b-e3ba-100a17be300c"
      },
      "execution_count": 2,
      "outputs": [
        {
          "output_type": "stream",
          "name": "stdout",
          "text": [
            "[[5.1 3.5 1.4 0.2]\n",
            " [4.9 3.  1.4 0.2]\n",
            " [4.7 3.2 1.3 0.2]\n",
            " [4.6 3.1 1.5 0.2]\n",
            " [5.  3.6 1.4 0.2]\n",
            " [5.4 3.9 1.7 0.4]\n",
            " [4.6 3.4 1.4 0.3]\n",
            " [5.  3.4 1.5 0.2]\n",
            " [4.4 2.9 1.4 0.2]\n",
            " [4.9 3.1 1.5 0.1]]\n",
            "(150, 4)\n",
            "[0 0 0 0 0 0 0 0 0 0 0 0 0 0 0 0 0 0 0 0 0 0 0 0 0 0 0 0 0 0 0 0 0 0 0 0 0\n",
            " 0 0 0 0 0 0 0 0 0 0 0 0 0 1 1 1 1 1 1 1 1 1 1 1 1 1 1 1 1 1 1 1 1 1 1 1 1\n",
            " 1 1 1 1 1 1 1 1 1 1 1 1 1 1 1 1 1 1 1 1 1 1 1 1 1 1 2 2 2 2 2 2 2 2 2 2 2\n",
            " 2 2 2 2 2 2 2 2 2 2 2 2 2 2 2 2 2 2 2 2 2 2 2 2 2 2 2 2 2 2 2 2 2 2 2 2 2\n",
            " 2 2]\n"
          ]
        }
      ]
    },
    {
      "cell_type": "code",
      "source": [
        "# 入力データ\n",
        "scaler = preprocessing.StandardScaler() # 標準化のためのスケーラー\n",
        "scaler.fit(iris.data) # 変換のためのパラメータを計算\n",
        "x = scaler.transform(iris.data) # データの変換\n",
        "print(x[:10])\n",
        "\n",
        "# 正解データ\n",
        "t = to_categorical(iris.target) # ラベルをone-hot表現に変換\n",
        "print(t[:10])\n"
      ],
      "metadata": {
        "colab": {
          "base_uri": "https://localhost:8080/"
        },
        "id": "lhPD-oxGUUv-",
        "outputId": "b2e286d9-a8bb-49c0-febc-370f3bc42266"
      },
      "execution_count": 3,
      "outputs": [
        {
          "output_type": "stream",
          "name": "stdout",
          "text": [
            "[[-0.90068117  1.01900435 -1.34022653 -1.3154443 ]\n",
            " [-1.14301691 -0.13197948 -1.34022653 -1.3154443 ]\n",
            " [-1.38535265  0.32841405 -1.39706395 -1.3154443 ]\n",
            " [-1.50652052  0.09821729 -1.2833891  -1.3154443 ]\n",
            " [-1.02184904  1.24920112 -1.34022653 -1.3154443 ]\n",
            " [-0.53717756  1.93979142 -1.16971425 -1.05217993]\n",
            " [-1.50652052  0.78880759 -1.34022653 -1.18381211]\n",
            " [-1.02184904  0.78880759 -1.2833891  -1.3154443 ]\n",
            " [-1.74885626 -0.36217625 -1.34022653 -1.3154443 ]\n",
            " [-1.14301691  0.09821729 -1.2833891  -1.44707648]]\n",
            "[[1. 0. 0.]\n",
            " [1. 0. 0.]\n",
            " [1. 0. 0.]\n",
            " [1. 0. 0.]\n",
            " [1. 0. 0.]\n",
            " [1. 0. 0.]\n",
            " [1. 0. 0.]\n",
            " [1. 0. 0.]\n",
            " [1. 0. 0.]\n",
            " [1. 0. 0.]]\n"
          ]
        }
      ]
    },
    {
      "cell_type": "code",
      "source": [
        "from sklearn.model_selection import train_test_split\n",
        "\n",
        "# x_train: 訓練用の入力データ\n",
        "# x_test: テスト用の入力データ\n",
        "# t_train:訓練用の正解データ\n",
        "# t_test: テスト用の正解データ\n",
        "# train_size=0.75: 75%が訓練用、25%がテスト用\n",
        "\n",
        "x_train, x_test, t_train, t_test = train_test_split(x, t, train_size=0.75)"
      ],
      "metadata": {
        "id": "qyaRzhufUdSj"
      },
      "execution_count": 4,
      "outputs": []
    },
    {
      "cell_type": "code",
      "source": [
        "from tensorflow.keras.models import Sequential\n",
        "from tensorflow.keras.layers import Dense, Activation\n",
        "\n",
        "model = Sequential()\n",
        "model.add(Dense(32, input_dim=4)) # 4つの特徴が入力なので、入力の数は4、ニューロン数は32\n",
        "model.add(Activation('relu')) # 活性化関数(ReLU)を追加\n",
        "model.add(Dense(32)) # ニューロン数32の全結合層を追加\n",
        "model.add(Activation('relu')) # 活性化関数(ReLU)を追加\n",
        "model.add(Dense(3)) # 3つに分類するので、ニューロン数は3\n",
        "model.add(Activation('softmax')) # 3つ以上の分類にはソフトマックス関数を使用（？？？）\n",
        "model.compile(optimizer='sgd', loss='categorical_crossentropy', metrics=['accuracy']) # モデルのコンパイル\n",
        "\n",
        "print(model.summary())\n"
      ],
      "metadata": {
        "colab": {
          "base_uri": "https://localhost:8080/"
        },
        "id": "sGm2kgbtUsjn",
        "outputId": "8b68a06a-2c21-42e3-ca7e-b6c90fd4e722"
      },
      "execution_count": 5,
      "outputs": [
        {
          "output_type": "stream",
          "name": "stdout",
          "text": [
            "Model: \"sequential\"\n",
            "_________________________________________________________________\n",
            " Layer (type)                Output Shape              Param #   \n",
            "=================================================================\n",
            " dense (Dense)               (None, 32)                160       \n",
            "                                                                 \n",
            " activation (Activation)     (None, 32)                0         \n",
            "                                                                 \n",
            " dense_1 (Dense)             (None, 32)                1056      \n",
            "                                                                 \n",
            " activation_1 (Activation)   (None, 32)                0         \n",
            "                                                                 \n",
            " dense_2 (Dense)             (None, 3)                 99        \n",
            "                                                                 \n",
            " activation_2 (Activation)   (None, 3)                 0         \n",
            "                                                                 \n",
            "=================================================================\n",
            "Total params: 1315 (5.14 KB)\n",
            "Trainable params: 1315 (5.14 KB)\n",
            "Non-trainable params: 0 (0.00 Byte)\n",
            "_________________________________________________________________\n",
            "None\n"
          ]
        }
      ]
    },
    {
      "source": [
        "# 4.2.6 学習\n",
        "history = model.fit(x_train, t_train, epochs=30, batch_size=8)"
      ],
      "cell_type": "code",
      "metadata": {
        "colab": {
          "base_uri": "https://localhost:8080/"
        },
        "id": "XnOE4lmXW0lg",
        "outputId": "6d453cb2-5675-4e2c-bf47-000a580c10db"
      },
      "execution_count": 6,
      "outputs": [
        {
          "output_type": "stream",
          "name": "stdout",
          "text": [
            "Epoch 1/30\n",
            "14/14 [==============================] - 3s 9ms/step - loss: 1.1164 - accuracy: 0.4286\n",
            "Epoch 2/30\n",
            "14/14 [==============================] - 0s 7ms/step - loss: 1.0169 - accuracy: 0.6875\n",
            "Epoch 3/30\n",
            "14/14 [==============================] - 0s 7ms/step - loss: 0.9338 - accuracy: 0.7946\n",
            "Epoch 4/30\n",
            "14/14 [==============================] - 0s 9ms/step - loss: 0.8588 - accuracy: 0.8036\n",
            "Epoch 5/30\n",
            "14/14 [==============================] - 0s 7ms/step - loss: 0.7932 - accuracy: 0.7857\n",
            "Epoch 6/30\n",
            "14/14 [==============================] - 0s 8ms/step - loss: 0.7362 - accuracy: 0.8036\n",
            "Epoch 7/30\n",
            "14/14 [==============================] - 0s 8ms/step - loss: 0.6870 - accuracy: 0.8125\n",
            "Epoch 8/30\n",
            "14/14 [==============================] - 0s 6ms/step - loss: 0.6455 - accuracy: 0.8214\n",
            "Epoch 9/30\n",
            "14/14 [==============================] - 0s 6ms/step - loss: 0.6075 - accuracy: 0.8214\n",
            "Epoch 10/30\n",
            "14/14 [==============================] - 0s 8ms/step - loss: 0.5758 - accuracy: 0.8304\n",
            "Epoch 11/30\n",
            "14/14 [==============================] - 0s 6ms/step - loss: 0.5480 - accuracy: 0.8304\n",
            "Epoch 12/30\n",
            "14/14 [==============================] - 0s 6ms/step - loss: 0.5236 - accuracy: 0.8304\n",
            "Epoch 13/30\n",
            "14/14 [==============================] - 0s 11ms/step - loss: 0.5026 - accuracy: 0.8482\n",
            "Epoch 14/30\n",
            "14/14 [==============================] - 0s 12ms/step - loss: 0.4827 - accuracy: 0.8482\n",
            "Epoch 15/30\n",
            "14/14 [==============================] - 0s 10ms/step - loss: 0.4644 - accuracy: 0.8482\n",
            "Epoch 16/30\n",
            "14/14 [==============================] - 0s 5ms/step - loss: 0.4478 - accuracy: 0.8571\n",
            "Epoch 17/30\n",
            "14/14 [==============================] - 0s 6ms/step - loss: 0.4336 - accuracy: 0.8661\n",
            "Epoch 18/30\n",
            "14/14 [==============================] - 0s 4ms/step - loss: 0.4186 - accuracy: 0.8750\n",
            "Epoch 19/30\n",
            "14/14 [==============================] - 0s 7ms/step - loss: 0.4054 - accuracy: 0.8839\n",
            "Epoch 20/30\n",
            "14/14 [==============================] - 0s 7ms/step - loss: 0.3936 - accuracy: 0.8750\n",
            "Epoch 21/30\n",
            "14/14 [==============================] - 0s 4ms/step - loss: 0.3808 - accuracy: 0.8929\n",
            "Epoch 22/30\n",
            "14/14 [==============================] - 0s 12ms/step - loss: 0.3703 - accuracy: 0.8839\n",
            "Epoch 23/30\n",
            "14/14 [==============================] - 0s 10ms/step - loss: 0.3599 - accuracy: 0.8929\n",
            "Epoch 24/30\n",
            "14/14 [==============================] - 0s 6ms/step - loss: 0.3501 - accuracy: 0.9107\n",
            "Epoch 25/30\n",
            "14/14 [==============================] - 0s 8ms/step - loss: 0.3412 - accuracy: 0.9107\n",
            "Epoch 26/30\n",
            "14/14 [==============================] - 0s 12ms/step - loss: 0.3327 - accuracy: 0.9018\n",
            "Epoch 27/30\n",
            "14/14 [==============================] - 0s 15ms/step - loss: 0.3248 - accuracy: 0.9107\n",
            "Epoch 28/30\n",
            "14/14 [==============================] - 0s 4ms/step - loss: 0.3168 - accuracy: 0.9107\n",
            "Epoch 29/30\n",
            "14/14 [==============================] - 0s 3ms/step - loss: 0.3111 - accuracy: 0.9107\n",
            "Epoch 30/30\n",
            "14/14 [==============================] - 0s 3ms/step - loss: 0.3031 - accuracy: 0.9196\n"
          ]
        }
      ]
    },
    {
      "cell_type": "code",
      "source": [
        "# 4.2.7 学習の推移\n",
        "import matplotlib.pyplot as plt\n",
        "\n",
        "hist_loss = history.history['loss'] # 訓練用データの誤差\n",
        "hist_acc = history.history['accuracy'] # 訓練用データの精度（正解率）\n",
        "plt.plot(np.arange(len(hist_loss)), hist_loss, label='loss') # 誤差\n",
        "plt.plot(np.arange(len(hist_acc)), hist_acc, label='accuracy') # 精度（正解率）\n",
        "plt.legend()\n",
        "plt.show()\n",
        "\n",
        "# 教科書のグラフと違い、なぜか最初から精度が高い（笑）"
      ],
      "metadata": {
        "colab": {
          "base_uri": "https://localhost:8080/",
          "height": 430
        },
        "id": "qA0MDzGbXgTA",
        "outputId": "ace1f179-3aa6-4d0c-b96d-99a8575731fc"
      },
      "execution_count": 7,
      "outputs": [
        {
          "output_type": "display_data",
          "data": {
            "text/plain": [
              "<Figure size 640x480 with 1 Axes>"
            ],
            "image/png": "[encoded data removed]"
          },
          "metadata": {}
        }
      ]
    },
    {
      "cell_type": "code",
      "source": [
        "# 4.2.8\n",
        "loss, accuracy = model.evaluate(x_test, t_test)\n",
        "print('誤差: ', loss, \"精度: \", accuracy)"
      ],
      "metadata": {
        "id": "-f_pcJmuYIzL",
        "colab": {
          "base_uri": "https://localhost:8080/"
        },
        "outputId": "96bb92e2-6b30-42a2-b150-9aee47d10a3e"
      },
      "execution_count": 9,
      "outputs": [
        {
          "output_type": "stream",
          "name": "stdout",
          "text": [
            "2/2 [==============================] - 0s 14ms/step - loss: 0.2616 - accuracy: 0.8684\n",
            "誤差:  0.26160484552383423 精度:  0.8684210777282715\n"
          ]
        }
      ]
    },
    {
      "cell_type": "code",
      "source": [
        "# 4.2.8 予測\n",
        "y_test = model.predict(x_test)\n",
        "print(y_test[:10])\n",
        "# 予測結果は各品種に分類される確率を表す（各行の和は1になる）"
      ],
      "metadata": {
        "colab": {
          "base_uri": "https://localhost:8080/"
        },
        "id": "waJ4l-U7pa-w",
        "outputId": "93a6b8b0-09e3-4fa0-d31b-708fdd7767af"
      },
      "execution_count": 10,
      "outputs": [
        {
          "output_type": "stream",
          "name": "stdout",
          "text": [
            "2/2 [==============================] - 0s 10ms/step\n",
            "[[0.04138708 0.35288006 0.60573274]\n",
            " [0.03365726 0.3463275  0.6200152 ]\n",
            " [0.9892545  0.00776551 0.00298001]\n",
            " [0.0264195  0.17791022 0.79567033]\n",
            " [0.07724734 0.59095514 0.3317975 ]\n",
            " [0.00587662 0.20496279 0.7891605 ]\n",
            " [0.969005   0.02362014 0.00737487]\n",
            " [0.00731101 0.07531305 0.9173759 ]\n",
            " [0.9821857  0.01345602 0.0043582 ]\n",
            " [0.10191519 0.60602534 0.29205942]]\n"
          ]
        }
      ]
    },
    {
      "cell_type": "code",
      "source": [
        "# 4.2.10 モデルの保存\n",
        "from tensorflow.keras.models import load_model\n",
        "\n",
        "model.save('model.h5') # 保存\n",
        "load_model('model.h5') # 読み込み"
      ],
      "metadata": {
        "colab": {
          "base_uri": "https://localhost:8080/"
        },
        "id": "1uBQdgmeplZW",
        "outputId": "58d1c96e-78fa-4ad7-86bf-b7c11e9c3a00"
      },
      "execution_count": 11,
      "outputs": [
        {
          "output_type": "stream",
          "name": "stderr",
          "text": [
            "/usr/local/lib/python3.10/dist-packages/keras/src/engine/training.py:3103: UserWarning: You are saving your model as an HDF5 file via `model.save()`. This file format is considered legacy. We recommend using instead the native Keras format, e.g. `model.save('my_model.keras')`.\n",
            "  saving_api.save_model(\n"
          ]
        },
        {
          "output_type": "execute_result",
          "data": {
            "text/plain": [
              "<keras.src.engine.sequential.Sequential at 0x79a4b271dc30>"
            ]
          },
          "metadata": {},
          "execution_count": 11
        }
      ]
    },
    {
      "cell_type": "markdown",
      "source": [
        "## 4.4 演習"
      ],
      "metadata": {
        "id": "C2g12pHWq-cD"
      }
    },
    {
      "cell_type": "code",
      "source": [
        "# 4.4.1データの準備\n",
        "import numpy as np\n",
        "from sklearn import datasets\n",
        "from sklearn import preprocessing\n",
        "from sklearn.model_selection import train_test_split\n",
        "from keras.utils import to_categorical\n",
        "\n",
        "iris = datasets.load_iris()\n",
        "\n",
        "scaler = preprocessing.StandardScaler()\n",
        "scaler.fit(iris.data)\n",
        "\n",
        "x = scaler.transform(iris.data)\n",
        "t = to_categorical(iris.target)\n",
        "\n",
        "x_train, x_test, t_train, t_test = train_test_split(x, t, train_size=0.75)"
      ],
      "metadata": {
        "id": "-63Wr53HsXzb"
      },
      "execution_count": 16,
      "outputs": []
    },
    {
      "cell_type": "code",
      "source": [
        "# 4.4.3モデルの構築\n",
        "from keras.models import Sequential\n",
        "from keras.layers import Dense, Activation\n",
        "\n",
        "model = Sequential()\n",
        "model.add(Dense(16, input_dim=4))\n",
        "model.add(Activation('relu'))\n",
        "model.add(Dense(16))\n",
        "model.add(Activation('relu'))\n",
        "model.add(Dense(3))\n",
        "model.add(Activation('softmax'))\n",
        "model.compile(optimizer='sgd', loss='categorical_crossentropy', metrics=['accuracy']) # モデルのコンパイル\n",
        "\n",
        "print(model.summary())"
      ],
      "metadata": {
        "colab": {
          "base_uri": "https://localhost:8080/"
        },
        "id": "dVyBEzcrtfdk",
        "outputId": "982e76b1-7d81-48c0-8bbd-fea5d874c8cb"
      },
      "execution_count": 18,
      "outputs": [
        {
          "output_type": "stream",
          "name": "stdout",
          "text": [
            "Model: \"sequential_2\"\n",
            "_________________________________________________________________\n",
            " Layer (type)                Output Shape              Param #   \n",
            "=================================================================\n",
            " dense_6 (Dense)             (None, 16)                80        \n",
            "                                                                 \n",
            " activation_6 (Activation)   (None, 16)                0         \n",
            "                                                                 \n",
            " dense_7 (Dense)             (None, 16)                272       \n",
            "                                                                 \n",
            " activation_7 (Activation)   (None, 16)                0         \n",
            "                                                                 \n",
            " dense_8 (Dense)             (None, 3)                 51        \n",
            "                                                                 \n",
            " activation_8 (Activation)   (None, 3)                 0         \n",
            "                                                                 \n",
            "=================================================================\n",
            "Total params: 403 (1.57 KB)\n",
            "Trainable params: 403 (1.57 KB)\n",
            "Non-trainable params: 0 (0.00 Byte)\n",
            "_________________________________________________________________\n",
            "None\n"
          ]
        }
      ]
    },
    {
      "cell_type": "code",
      "source": [
        "# 4.4.3学習\n",
        "history = model.fit(x_train, t_train, epochs=30, batch_size=8)\n"
      ],
      "metadata": {
        "colab": {
          "base_uri": "https://localhost:8080/"
        },
        "id": "8O-bvnSwu67J",
        "outputId": "52409bb1-78ca-4550-a351-b346125550b9"
      },
      "execution_count": 19,
      "outputs": [
        {
          "output_type": "stream",
          "name": "stdout",
          "text": [
            "Epoch 1/30\n",
            "14/14 [==============================] - 1s 5ms/step - loss: 1.0567 - accuracy: 0.3571\n",
            "Epoch 2/30\n",
            "14/14 [==============================] - 0s 4ms/step - loss: 1.0167 - accuracy: 0.4018\n",
            "Epoch 3/30\n",
            "14/14 [==============================] - 0s 4ms/step - loss: 0.9714 - accuracy: 0.4821\n",
            "Epoch 4/30\n",
            "14/14 [==============================] - 0s 3ms/step - loss: 0.9227 - accuracy: 0.5357\n",
            "Epoch 5/30\n",
            "14/14 [==============================] - 0s 3ms/step - loss: 0.8775 - accuracy: 0.6875\n",
            "Epoch 6/30\n",
            "14/14 [==============================] - 0s 6ms/step - loss: 0.8344 - accuracy: 0.8036\n",
            "Epoch 7/30\n",
            "14/14 [==============================] - 0s 5ms/step - loss: 0.7946 - accuracy: 0.8482\n",
            "Epoch 8/30\n",
            "14/14 [==============================] - 0s 8ms/step - loss: 0.7596 - accuracy: 0.8750\n",
            "Epoch 9/30\n",
            "14/14 [==============================] - 0s 8ms/step - loss: 0.7281 - accuracy: 0.8839\n",
            "Epoch 10/30\n",
            "14/14 [==============================] - 0s 9ms/step - loss: 0.6996 - accuracy: 0.8839\n",
            "Epoch 11/30\n",
            "14/14 [==============================] - 0s 8ms/step - loss: 0.6743 - accuracy: 0.8839\n",
            "Epoch 12/30\n",
            "14/14 [==============================] - 0s 7ms/step - loss: 0.6510 - accuracy: 0.8839\n",
            "Epoch 13/30\n",
            "14/14 [==============================] - 0s 7ms/step - loss: 0.6298 - accuracy: 0.8839\n",
            "Epoch 14/30\n",
            "14/14 [==============================] - 0s 5ms/step - loss: 0.6103 - accuracy: 0.8839\n",
            "Epoch 15/30\n",
            "14/14 [==============================] - 0s 9ms/step - loss: 0.5926 - accuracy: 0.8839\n",
            "Epoch 16/30\n",
            "14/14 [==============================] - 0s 8ms/step - loss: 0.5758 - accuracy: 0.8750\n",
            "Epoch 17/30\n",
            "14/14 [==============================] - 0s 8ms/step - loss: 0.5598 - accuracy: 0.8750\n",
            "Epoch 18/30\n",
            "14/14 [==============================] - 0s 6ms/step - loss: 0.5452 - accuracy: 0.8661\n",
            "Epoch 19/30\n",
            "14/14 [==============================] - 0s 6ms/step - loss: 0.5312 - accuracy: 0.8661\n",
            "Epoch 20/30\n",
            "14/14 [==============================] - 0s 8ms/step - loss: 0.5178 - accuracy: 0.8661\n",
            "Epoch 21/30\n",
            "14/14 [==============================] - 0s 6ms/step - loss: 0.5051 - accuracy: 0.8661\n",
            "Epoch 22/30\n",
            "14/14 [==============================] - 0s 7ms/step - loss: 0.4926 - accuracy: 0.8661\n",
            "Epoch 23/30\n",
            "14/14 [==============================] - 0s 6ms/step - loss: 0.4810 - accuracy: 0.8750\n",
            "Epoch 24/30\n",
            "14/14 [==============================] - 0s 6ms/step - loss: 0.4699 - accuracy: 0.8750\n",
            "Epoch 25/30\n",
            "14/14 [==============================] - 0s 6ms/step - loss: 0.4590 - accuracy: 0.8750\n",
            "Epoch 26/30\n",
            "14/14 [==============================] - 0s 6ms/step - loss: 0.4486 - accuracy: 0.8750\n",
            "Epoch 27/30\n",
            "14/14 [==============================] - 0s 5ms/step - loss: 0.4388 - accuracy: 0.8750\n",
            "Epoch 28/30\n",
            "14/14 [==============================] - 0s 5ms/step - loss: 0.4297 - accuracy: 0.8750\n",
            "Epoch 29/30\n",
            "14/14 [==============================] - 0s 7ms/step - loss: 0.4206 - accuracy: 0.8750\n",
            "Epoch 30/30\n",
            "14/14 [==============================] - 0s 7ms/step - loss: 0.4118 - accuracy: 0.8750\n"
          ]
        }
      ]
    },
    {
      "cell_type": "code",
      "source": [
        "# 4.4.4学習の推移\n",
        "import matp"
      ],
      "metadata": {
        "id": "5BBThcy2vDWx"
      },
      "execution_count": null,
      "outputs": []
    },
    {
      "cell_type": "code",
      "source": [
        "# 4.3.1 畳み込みニューラルネットワーク（CNN）\n",
        "\n"
      ],
      "metadata": {
        "id": "6ra-dbNBqhWX"
      },
      "execution_count": null,
      "outputs": []
    }
  ]
}