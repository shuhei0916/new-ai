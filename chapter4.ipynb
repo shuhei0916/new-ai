{
  "nbformat": 4,
  "nbformat_minor": 0,
  "metadata": {
    "colab": {
      "provenance": [],
      "authorship_tag": "ABX9TyOikxi6eqbMkV3K1mzKFBo6",
      "include_colab_link": true
    },
    "kernelspec": {
      "name": "python3",
      "display_name": "Python 3"
    },
    "language_info": {
      "name": "python"
    }
  },
  "cells": [
    {
      "cell_type": "markdown",
      "metadata": {
        "id": "view-in-github",
        "colab_type": "text"
      },
      "source": [
        "<a href=\"https://colab.research.google.com/github/shuhei0916/new-ai/blob/main/chapter4.ipynb\" target=\"_parent\"><img src=\"https://colab.research.google.com/assets/colab-badge.svg\" alt=\"Open In Colab\"/></a>"
      ]
    },
    {
      "cell_type": "code",
      "execution_count": 1,
      "metadata": {
        "id": "qAf4wxDQSBS5"
      },
      "outputs": [],
      "source": [
        "import numpy as np\n",
        "from sklearn import preprocessing\n",
        "from keras.utils import to_categorical\n",
        "from sklearn import datasets"
      ]
    },
    {
      "cell_type": "code",
      "source": [
        "iris = datasets.load_iris()\n",
        "print(iris.data[:10])\n",
        "print(iris.data.shape)\n",
        "print(iris.target)"
      ],
      "metadata": {
        "colab": {
          "base_uri": "https://localhost:8080/"
        },
        "id": "WPTkbkpsTCI5",
        "outputId": "95bed3b6-0c15-4e7b-e556-a9664e133a09"
      },
      "execution_count": 2,
      "outputs": [
        {
          "output_type": "stream",
          "name": "stdout",
          "text": [
            "[[5.1 3.5 1.4 0.2]\n",
            " [4.9 3.  1.4 0.2]\n",
            " [4.7 3.2 1.3 0.2]\n",
            " [4.6 3.1 1.5 0.2]\n",
            " [5.  3.6 1.4 0.2]\n",
            " [5.4 3.9 1.7 0.4]\n",
            " [4.6 3.4 1.4 0.3]\n",
            " [5.  3.4 1.5 0.2]\n",
            " [4.4 2.9 1.4 0.2]\n",
            " [4.9 3.1 1.5 0.1]]\n",
            "(150, 4)\n",
            "[0 0 0 0 0 0 0 0 0 0 0 0 0 0 0 0 0 0 0 0 0 0 0 0 0 0 0 0 0 0 0 0 0 0 0 0 0\n",
            " 0 0 0 0 0 0 0 0 0 0 0 0 0 1 1 1 1 1 1 1 1 1 1 1 1 1 1 1 1 1 1 1 1 1 1 1 1\n",
            " 1 1 1 1 1 1 1 1 1 1 1 1 1 1 1 1 1 1 1 1 1 1 1 1 1 1 2 2 2 2 2 2 2 2 2 2 2\n",
            " 2 2 2 2 2 2 2 2 2 2 2 2 2 2 2 2 2 2 2 2 2 2 2 2 2 2 2 2 2 2 2 2 2 2 2 2 2\n",
            " 2 2]\n"
          ]
        }
      ]
    },
    {
      "cell_type": "code",
      "source": [
        "# 入力データ\n",
        "scaler = preprocessing.StandardScaler() # 標準化のためのスケーラー\n",
        "scaler.fit(iris.data) # 変換のためのパラメータを計算\n",
        "x = scaler.transform(iris.data) # データの変換\n",
        "print(x[:10])\n",
        "\n",
        "# 正解データ\n",
        "t = to_categorical(iris.target) # ラベルをone-hot表現に変換\n",
        "print(t[:10])\n"
      ],
      "metadata": {
        "colab": {
          "base_uri": "https://localhost:8080/"
        },
        "id": "lhPD-oxGUUv-",
        "outputId": "156946fd-347c-4540-f176-409e360708ff"
      },
      "execution_count": 3,
      "outputs": [
        {
          "output_type": "stream",
          "name": "stdout",
          "text": [
            "[[-0.90068117  1.01900435 -1.34022653 -1.3154443 ]\n",
            " [-1.14301691 -0.13197948 -1.34022653 -1.3154443 ]\n",
            " [-1.38535265  0.32841405 -1.39706395 -1.3154443 ]\n",
            " [-1.50652052  0.09821729 -1.2833891  -1.3154443 ]\n",
            " [-1.02184904  1.24920112 -1.34022653 -1.3154443 ]\n",
            " [-0.53717756  1.93979142 -1.16971425 -1.05217993]\n",
            " [-1.50652052  0.78880759 -1.34022653 -1.18381211]\n",
            " [-1.02184904  0.78880759 -1.2833891  -1.3154443 ]\n",
            " [-1.74885626 -0.36217625 -1.34022653 -1.3154443 ]\n",
            " [-1.14301691  0.09821729 -1.2833891  -1.44707648]]\n",
            "[[1. 0. 0.]\n",
            " [1. 0. 0.]\n",
            " [1. 0. 0.]\n",
            " [1. 0. 0.]\n",
            " [1. 0. 0.]\n",
            " [1. 0. 0.]\n",
            " [1. 0. 0.]\n",
            " [1. 0. 0.]\n",
            " [1. 0. 0.]\n",
            " [1. 0. 0.]]\n"
          ]
        }
      ]
    },
    {
      "cell_type": "code",
      "source": [
        "from sklearn.model_selection import train_test_split\n",
        "\n",
        "# x_train: 訓練用の入力データ\n",
        "# x_test: テスト用の入力データ\n",
        "# t_train:訓練用の正解データ\n",
        "# t_test: テスト用の正解データ\n",
        "# train_size=0.75: 75%が訓練用、25%がテスト用\n",
        "\n",
        "x_train, x_test, t_train, t_test = train_test_split(x, t, train_size=0.75)"
      ],
      "metadata": {
        "id": "qyaRzhufUdSj"
      },
      "execution_count": 5,
      "outputs": []
    },
    {
      "cell_type": "code",
      "source": [
        "from tensorflow.keras.models import Sequential\n",
        "from tensorflow.keras.layers import Dense, Activation\n",
        "\n",
        "model = Sequential()\n",
        "model.add(Dense(32, input_dim=4)) # 4つの特徴が入力なので、入力の数は4、ニューロン数は32\n",
        "model.add(Activation('relu')) # 活性化関数(ReLU)を追加\n",
        "model.add(Dense(32)) # ニューロン数32の全結合層を追加\n",
        "model.add(Activation('relu')) # 活性化関数(ReLU)を追加\n",
        "model.add(Dense(3)) # 3つに分類するので、ニューロン数は3\n",
        "model.add(Activation('softmax')) # 3つ以上の分類にはソフトマックス関数を使用（？？？）\n",
        "model.compile(optimizer='sgd', loss='categorical_crossentropy', metrics=['accuracy']) # モデルのコンパイル\n",
        "\n",
        "print(model.summary())\n"
      ],
      "metadata": {
        "colab": {
          "base_uri": "https://localhost:8080/"
        },
        "id": "sGm2kgbtUsjn",
        "outputId": "09a851b0-52ab-4c8f-9d22-aea7a49d50ca"
      },
      "execution_count": 9,
      "outputs": [
        {
          "output_type": "stream",
          "name": "stdout",
          "text": [
            "Model: \"sequential_1\"\n",
            "_________________________________________________________________\n",
            " Layer (type)                Output Shape              Param #   \n",
            "=================================================================\n",
            " dense (Dense)               (None, 32)                160       \n",
            "                                                                 \n",
            " activation (Activation)     (None, 32)                0         \n",
            "                                                                 \n",
            " dense_1 (Dense)             (None, 32)                1056      \n",
            "                                                                 \n",
            " activation_1 (Activation)   (None, 32)                0         \n",
            "                                                                 \n",
            " dense_2 (Dense)             (None, 3)                 99        \n",
            "                                                                 \n",
            " activation_2 (Activation)   (None, 3)                 0         \n",
            "                                                                 \n",
            "=================================================================\n",
            "Total params: 1315 (5.14 KB)\n",
            "Trainable params: 1315 (5.14 KB)\n",
            "Non-trainable params: 0 (0.00 Byte)\n",
            "_________________________________________________________________\n",
            "None\n"
          ]
        }
      ]
    },
    {
      "source": [
        "# 4.2.6 学習\n",
        "history = model.fit(x_train, t_train, epochs=30, batch_size=8)"
      ],
      "cell_type": "code",
      "metadata": {
        "colab": {
          "base_uri": "https://localhost:8080/"
        },
        "id": "XnOE4lmXW0lg",
        "outputId": "e65d27c2-df74-4354-fc79-f342e9ddf189"
      },
      "execution_count": 11,
      "outputs": [
        {
          "output_type": "stream",
          "name": "stdout",
          "text": [
            "Epoch 1/30\n",
            "14/14 [==============================] - 0s 3ms/step - loss: 0.3123 - accuracy: 0.9018\n",
            "Epoch 2/30\n",
            "14/14 [==============================] - 0s 4ms/step - loss: 0.3063 - accuracy: 0.8929\n",
            "Epoch 3/30\n",
            "14/14 [==============================] - 0s 4ms/step - loss: 0.3003 - accuracy: 0.9107\n",
            "Epoch 4/30\n",
            "14/14 [==============================] - 0s 3ms/step - loss: 0.2949 - accuracy: 0.9107\n",
            "Epoch 5/30\n",
            "14/14 [==============================] - 0s 3ms/step - loss: 0.2887 - accuracy: 0.9107\n",
            "Epoch 6/30\n",
            "14/14 [==============================] - 0s 3ms/step - loss: 0.2838 - accuracy: 0.9286\n",
            "Epoch 7/30\n",
            "14/14 [==============================] - 0s 3ms/step - loss: 0.2786 - accuracy: 0.9286\n",
            "Epoch 8/30\n",
            "14/14 [==============================] - 0s 3ms/step - loss: 0.2742 - accuracy: 0.9196\n",
            "Epoch 9/30\n",
            "14/14 [==============================] - 0s 3ms/step - loss: 0.2694 - accuracy: 0.9286\n",
            "Epoch 10/30\n",
            "14/14 [==============================] - 0s 6ms/step - loss: 0.2651 - accuracy: 0.9286\n",
            "Epoch 11/30\n",
            "14/14 [==============================] - 0s 4ms/step - loss: 0.2602 - accuracy: 0.9196\n",
            "Epoch 12/30\n",
            "14/14 [==============================] - 0s 3ms/step - loss: 0.2568 - accuracy: 0.9196\n",
            "Epoch 13/30\n",
            "14/14 [==============================] - 0s 4ms/step - loss: 0.2514 - accuracy: 0.9286\n",
            "Epoch 14/30\n",
            "14/14 [==============================] - 0s 3ms/step - loss: 0.2482 - accuracy: 0.9196\n",
            "Epoch 15/30\n",
            "14/14 [==============================] - 0s 3ms/step - loss: 0.2436 - accuracy: 0.9286\n",
            "Epoch 16/30\n",
            "14/14 [==============================] - 0s 3ms/step - loss: 0.2404 - accuracy: 0.9286\n",
            "Epoch 17/30\n",
            "14/14 [==============================] - 0s 3ms/step - loss: 0.2352 - accuracy: 0.9286\n",
            "Epoch 18/30\n",
            "14/14 [==============================] - 0s 3ms/step - loss: 0.2323 - accuracy: 0.9196\n",
            "Epoch 19/30\n",
            "14/14 [==============================] - 0s 3ms/step - loss: 0.2283 - accuracy: 0.9286\n",
            "Epoch 20/30\n",
            "14/14 [==============================] - 0s 3ms/step - loss: 0.2252 - accuracy: 0.9286\n",
            "Epoch 21/30\n",
            "14/14 [==============================] - 0s 4ms/step - loss: 0.2212 - accuracy: 0.9286\n",
            "Epoch 22/30\n",
            "14/14 [==============================] - 0s 3ms/step - loss: 0.2179 - accuracy: 0.9286\n",
            "Epoch 23/30\n",
            "14/14 [==============================] - 0s 3ms/step - loss: 0.2147 - accuracy: 0.9286\n",
            "Epoch 24/30\n",
            "14/14 [==============================] - 0s 3ms/step - loss: 0.2109 - accuracy: 0.9286\n",
            "Epoch 25/30\n",
            "14/14 [==============================] - 0s 3ms/step - loss: 0.2078 - accuracy: 0.9375\n",
            "Epoch 26/30\n",
            "14/14 [==============================] - 0s 3ms/step - loss: 0.2044 - accuracy: 0.9375\n",
            "Epoch 27/30\n",
            "14/14 [==============================] - 0s 3ms/step - loss: 0.2011 - accuracy: 0.9286\n",
            "Epoch 28/30\n",
            "14/14 [==============================] - 0s 3ms/step - loss: 0.1987 - accuracy: 0.9375\n",
            "Epoch 29/30\n",
            "14/14 [==============================] - 0s 3ms/step - loss: 0.1954 - accuracy: 0.9286\n",
            "Epoch 30/30\n",
            "14/14 [==============================] - 0s 3ms/step - loss: 0.1931 - accuracy: 0.9375\n"
          ]
        }
      ]
    },
    {
      "cell_type": "code",
      "source": [
        "# 4.2.7 学習の推移\n",
        "import matplotlib.pyplot as plt\n",
        "\n",
        "hist_loss = history.history['loss'] # 訓練用データの誤差\n",
        "hist_acc = history.history['accuracy'] # 訓練用データの精度（正解率）\n",
        "plt.plot(np.arange(len(hist_loss)), hist_loss, label='loss') # 誤差\n",
        "plt.plot(np.arange(len(hist_acc)), hist_acc, label='accuracy') # 精度（正解率）\n",
        "plt.legend()\n",
        "plt.show()\n",
        "\n",
        "# 教科書のグラフと違い、なぜか最初から精度が高い（笑）"
      ],
      "metadata": {
        "colab": {
          "base_uri": "https://localhost:8080/",
          "height": 430
        },
        "id": "qA0MDzGbXgTA",
        "outputId": "b9d3c35e-6f54-4c7c-9de0-b8f4cd8f2316"
      },
      "execution_count": 13,
      "outputs": [
        {
          "output_type": "display_data",
          "data": {
            "text/plain": [
              "<Figure size 640x480 with 1 Axes>"
            ],
            "image/png": "[encoded data removed]"
          },
          "metadata": {}
        }
      ]
    },
    {
      "cell_type": "code",
      "source": [],
      "metadata": {
        "id": "-f_pcJmuYIzL"
      },
      "execution_count": null,
      "outputs": []
    }
  ]
}