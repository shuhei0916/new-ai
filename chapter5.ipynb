{
  "nbformat": 4,
  "nbformat_minor": 0,
  "metadata": {
    "colab": {
      "provenance": [],
      "authorship_tag": "ABX9TyM7nGc/YUehFOwCma9x95Ht",
      "include_colab_link": true
    },
    "kernelspec": {
      "name": "python3",
      "display_name": "Python 3"
    },
    "language_info": {
      "name": "python"
    }
  },
  "cells": [
    {
      "cell_type": "markdown",
      "metadata": {
        "id": "view-in-github",
        "colab_type": "text"
      },
      "source": [
        "<a href=\"https://colab.research.google.com/github/shuhei0916/new-ai/blob/main/chapter5.ipynb\" target=\"_parent\"><img src=\"https://colab.research.google.com/assets/colab-badge.svg\" alt=\"Open In Colab\"/></a>"
      ]
    },
    {
      "cell_type": "markdown",
      "source": [
        "Chaptere5 ディープラーニングの理論\n",
        "#数学の基礎"
      ],
      "metadata": {
        "id": "M9o2MCc8X3xR"
      }
    },
    {
      "cell_type": "code",
      "execution_count": null,
      "metadata": {
        "colab": {
          "base_uri": "https://localhost:8080/"
        },
        "id": "JfQqMnzQW1Ft",
        "outputId": "3276c176-e429-41fb-f8f0-fcc91b77cfff"
      },
      "outputs": [
        {
          "output_type": "stream",
          "name": "stdout",
          "text": [
            "15\n"
          ]
        }
      ],
      "source": [
        "# 5.1.1 シグマを使った総和の表記\n",
        "import numpy as np\n",
        "\n",
        "a = np.array([1, 3, 2, 5, 4])\n",
        "y = np.sum(a)\n",
        "print(y)"
      ]
    },
    {
      "cell_type": "code",
      "source": [
        "# 5.1.2 ネイピア数e\n",
        "import numpy as np\n",
        "print(np.e)\n",
        "print(np.exp(1))"
      ],
      "metadata": {
        "colab": {
          "base_uri": "https://localhost:8080/"
        },
        "id": "bqeVLS9fXWSH",
        "outputId": "4fce16f1-293a-4cd1-a6ea-b0a87f7ece32"
      },
      "execution_count": null,
      "outputs": [
        {
          "output_type": "stream",
          "name": "stdout",
          "text": [
            "2.718281828459045\n",
            "2.718281828459045\n"
          ]
        }
      ]
    },
    {
      "cell_type": "code",
      "source": [
        "# 5.1.3 自然対数log\n",
        "import numpy as np\n",
        "print(np.log(np.e))\n",
        "print(np.log(np.exp(2)))\n",
        "print(np.log(np.exp(12)))"
      ],
      "metadata": {
        "colab": {
          "base_uri": "https://localhost:8080/"
        },
        "id": "XKmVzVxYXifj",
        "outputId": "7afde503-9fad-4c1e-939c-c7f072d36b11"
      },
      "execution_count": null,
      "outputs": [
        {
          "output_type": "stream",
          "name": "stdout",
          "text": [
            "1.0\n",
            "2.0\n",
            "12.0\n"
          ]
        }
      ]
    },
    {
      "cell_type": "markdown",
      "source": [
        "# 5.3 活性化関数\n",
        "活性化関数は、いわばニューロンを興奮させるための関数。ニューロンへの入力と重みをかけたものの総和にバイアスを足し合わせた値を、ニューロンの興奮状態を表す値に変換する。"
      ],
      "metadata": {
        "id": "odQjd69jYz1Y"
      }
    },
    {
      "cell_type": "code",
      "source": [
        "# 5.3.1 ステップ関数\n",
        "import numpy as np\n",
        "import matplotlib.pyplot as plt\n",
        "\n",
        "def step_function(x):\n",
        "    return np.where(x<=0, 0, 1) # 0以外の場合は0, それ以外の場合は1を返す\n",
        "\n",
        "x = np.linspace(-5, 5)\n",
        "y = step_function(x)\n",
        "\n",
        "plt.plot(x, y)\n",
        "plt.show()"
      ],
      "metadata": {
        "colab": {
          "base_uri": "https://localhost:8080/",
          "height": 430
        },
        "id": "tSOny_nmYdGD",
        "outputId": "d578832c-120a-4951-d09b-9c3c3e1050cc"
      },
      "execution_count": null,
      "outputs": [
        {
          "output_type": "display_data",
          "data": {
            "text/plain": [
              "<Figure size 640x480 with 1 Axes>"
            ],
            "image/png": "[encoded data removed]"
          },
          "metadata": {}
        }
      ]
    },
    {
      "cell_type": "code",
      "source": [
        "# numpy where sample\n",
        "a = np.arange(9).reshape(3, 3)\n",
        "print(a)\n",
        "print(a < 4)\n",
        "print(np.where(a < 4, -1, 100))"
      ],
      "metadata": {
        "id": "c5YyADAcZRmd",
        "colab": {
          "base_uri": "https://localhost:8080/"
        },
        "outputId": "1981783e-0cfd-4fb3-bdc7-e211d38defcd"
      },
      "execution_count": null,
      "outputs": [
        {
          "output_type": "stream",
          "name": "stdout",
          "text": [
            "[[0 1 2]\n",
            " [3 4 5]\n",
            " [6 7 8]]\n",
            "[[ True  True  True]\n",
            " [ True False False]\n",
            " [False False False]]\n",
            "[[ -1  -1  -1]\n",
            " [ -1 100 100]\n",
            " [100 100 100]]\n"
          ]
        }
      ]
    },
    {
      "cell_type": "code",
      "source": [
        "# 5.3.2 ジグモイド関数\n",
        "def sigmoid_function(x):\n",
        "    return 1/(1+np.exp(-x))\n",
        "\n",
        "x = np.linspace(-5, 5)\n",
        "y = sigmoid_function(x)\n",
        "\n",
        "plt.plot(x, y)\n",
        "plt.show()"
      ],
      "metadata": {
        "colab": {
          "base_uri": "https://localhost:8080/",
          "height": 430
        },
        "id": "TduR9i8EZn5B",
        "outputId": "d611872a-df04-4966-eec4-8f8a631dcc62"
      },
      "execution_count": null,
      "outputs": [
        {
          "output_type": "display_data",
          "data": {
            "text/plain": [
              "<Figure size 640x480 with 1 Axes>"
            ],
            "image/png": "[encoded data removed]"
          },
          "metadata": {}
        }
      ]
    },
    {
      "cell_type": "code",
      "source": [
        "# 5.3.3 tanh(hyperbolic tangent)\n",
        "def tanh_function(x):\n",
        "    return np.tanh(x)\n",
        "\n",
        "x = np.linspace(-5, 5) # -5~5までの等差数列を作成\n",
        "y = tanh_function(x)\n",
        "\n",
        "plt.plot(x, y)\n",
        "plt.show"
      ],
      "metadata": {
        "id": "D193ZN4hXM9_",
        "colab": {
          "base_uri": "https://localhost:8080/",
          "height": 599
        },
        "outputId": "c8503ec0-ffd9-4b50-80f0-6566d85b8707"
      },
      "execution_count": null,
      "outputs": [
        {
          "output_type": "execute_result",
          "data": {
            "text/plain": [
              "<function matplotlib.pyplot.show(close=None, block=None)>"
            ],
            "text/html": [
              "<div style=\"max-width:800px; border: 1px solid var(--colab-border-color);\"><style>\n",
              "      pre.function-repr-contents {\n",
              "        overflow-x: auto;\n",
              "        padding: 8px 12px;\n",
              "        max-height: 500px;\n",
              "      }\n",
              "\n",
              "      pre.function-repr-contents.function-repr-contents-collapsed {\n",
              "        cursor: pointer;\n",
              "        max-height: 100px;\n",
              "      }\n",
              "    </style>\n",
              "    <pre style=\"white-space: initial; background:\n",
              "         var(--colab-secondary-surface-color); padding: 8px 12px;\n",
              "         border-bottom: 1px solid var(--colab-border-color);\"><b>matplotlib.pyplot.show</b><br/>def show(*args, **kwargs)</pre><pre class=\"function-repr-contents function-repr-contents-collapsed\" style=\"\"><a class=\"filepath\" style=\"display:none\" href=\"#\">/usr/local/lib/python3.10/dist-packages/matplotlib/pyplot.py</a>Display all open figures.\n",
              "\n",
              "Parameters\n",
              "----------\n",
              "block : bool, optional\n",
              "    Whether to wait for all figures to be closed before returning.\n",
              "\n",
              "    If `True` block and run the GUI main loop until all figure windows\n",
              "    are closed.\n",
              "\n",
              "    If `False` ensure that all figure windows are displayed and return\n",
              "    immediately.  In this case, you are responsible for ensuring\n",
              "    that the event loop is running to have responsive figures.\n",
              "\n",
              "    Defaults to True in non-interactive mode and to False in interactive\n",
              "    mode (see `.pyplot.isinteractive`).\n",
              "\n",
              "See Also\n",
              "--------\n",
              "ion : Enable interactive mode, which shows / updates the figure after\n",
              "      every plotting command, so that calling ``show()`` is not necessary.\n",
              "ioff : Disable interactive mode.\n",
              "savefig : Save the figure to an image file instead of showing it on screen.\n",
              "\n",
              "Notes\n",
              "-----\n",
              "**Saving figures to file and showing a window at the same time**\n",
              "\n",
              "If you want an image file as well as a user interface window, use\n",
              "`.pyplot.savefig` before `.pyplot.show`. At the end of (a blocking)\n",
              "``show()`` the figure is closed and thus unregistered from pyplot. Calling\n",
              "`.pyplot.savefig` afterwards would save a new and thus empty figure. This\n",
              "limitation of command order does not apply if the show is non-blocking or\n",
              "if you keep a reference to the figure and use `.Figure.savefig`.\n",
              "\n",
              "**Auto-show in jupyter notebooks**\n",
              "\n",
              "The jupyter backends (activated via ``%matplotlib inline``,\n",
              "``%matplotlib notebook``, or ``%matplotlib widget``), call ``show()`` at\n",
              "the end of every cell by default. Thus, you usually don&#x27;t have to call it\n",
              "explicitly there.</pre>\n",
              "      <script>\n",
              "      if (google.colab.kernel.accessAllowed && google.colab.files && google.colab.files.view) {\n",
              "        for (const element of document.querySelectorAll('.filepath')) {\n",
              "          element.style.display = 'block'\n",
              "          element.onclick = (event) => {\n",
              "            event.preventDefault();\n",
              "            event.stopPropagation();\n",
              "            google.colab.files.view(element.textContent, 401);\n",
              "          };\n",
              "        }\n",
              "      }\n",
              "      for (const element of document.querySelectorAll('.function-repr-contents')) {\n",
              "        element.onclick = (event) => {\n",
              "          event.preventDefault();\n",
              "          event.stopPropagation();\n",
              "          element.classList.toggle('function-repr-contents-collapsed');\n",
              "        };\n",
              "      }\n",
              "      </script>\n",
              "      </div>"
            ]
          },
          "metadata": {},
          "execution_count": 9
        },
        {
          "output_type": "display_data",
          "data": {
            "text/plain": [
              "<Figure size 640x480 with 1 Axes>"
            ],
            "image/png": "[encoded data removed]"
          },
          "metadata": {}
        }
      ]
    },
    {
      "cell_type": "code",
      "source": [
        "# ReLU: ランプ関数（x>0の範囲でのみ立ち上がるのが特徴的な活性化関数）\n",
        "def relu_function(x):\n",
        "    return np.where(x <= 0, 0, x)\n",
        "\n",
        "x = np.linspace(-5, 5)\n",
        "y = relu_function(x)\n",
        "\n",
        "plt.plot(x, y)\n",
        "plt.show()"
      ],
      "metadata": {
        "colab": {
          "base_uri": "https://localhost:8080/",
          "height": 430
        },
        "id": "ojgo2QT1bbUn",
        "outputId": "82883d14-2fd4-42d7-a1ce-2876eeb32e9d"
      },
      "execution_count": null,
      "outputs": [
        {
          "output_type": "display_data",
          "data": {
            "text/plain": [
              "<Figure size 640x480 with 1 Axes>"
            ],
            "image/png": "[encoded data removed]"
          },
          "metadata": {}
        }
      ]
    },
    {
      "cell_type": "code",
      "source": [
        "# 5.3.5 恒等関数\n",
        "x = np.linspace(-5, 5)\n",
        "y = x\n",
        "\n",
        "plt.plot(x, y)\n",
        "plt.show()"
      ],
      "metadata": {
        "id": "9jY_VtZEW9rD",
        "colab": {
          "base_uri": "https://localhost:8080/",
          "height": 430
        },
        "outputId": "80e9d54e-6c6d-4d22-fe62-f4429e074aeb"
      },
      "execution_count": null,
      "outputs": [
        {
          "output_type": "display_data",
          "data": {
            "text/plain": [
              "<Figure size 640x480 with 1 Axes>"
            ],
            "image/png": "[encoded data removed]"
          },
          "metadata": {}
        }
      ]
    },
    {
      "cell_type": "code",
      "source": [
        "# 5.3.6 ソフトマックス関数\n",
        "def softmax_function(x):\n",
        "    return np.exp(x)/np.sum(np.exp(x))\n",
        "\n",
        "y = softmax_function(np.array([1, 2, 3]))\n",
        "print(y)\n",
        "assert 1 == sum(y) # 出力されたすべての要素は0から1の範囲に収まっており、合計は一となっている。ソフトマックス関数が機能していることが確認できますね。"
      ],
      "metadata": {
        "colab": {
          "base_uri": "https://localhost:8080/"
        },
        "id": "66q7Pu7ScThc",
        "outputId": "f5a0b163-b365-45f4-e5d2-7f4373f45a2c"
      },
      "execution_count": null,
      "outputs": [
        {
          "output_type": "stream",
          "name": "stdout",
          "text": [
            "[0.09003057 0.24472847 0.66524096]\n"
          ]
        }
      ]
    },
    {
      "cell_type": "markdown",
      "source": [
        "## 5.4 順伝播と逆伝播\n"
      ],
      "metadata": {
        "id": "euK8OdK1dgr4"
      }
    },
    {
      "cell_type": "markdown",
      "source": [
        "## 5.5行列と行列積"
      ],
      "metadata": {
        "id": "Ji963GTgd9gX"
      }
    },
    {
      "cell_type": "code",
      "source": [
        "# 5.5.2ベクトル\n",
        "import numpy as np\n",
        "\n",
        "a = np.array([3, 2, 1])\n",
        "print(a)\n",
        "\n",
        "b = np.array([-2.3, 0.25, -1.2, 1.8, 0.41])\n",
        "print(b)"
      ],
      "metadata": {
        "colab": {
          "base_uri": "https://localhost:8080/"
        },
        "id": "Ehf2OBmjdduL",
        "outputId": "c72d52bc-9664-4826-967f-4419aa0f0ffe"
      },
      "execution_count": null,
      "outputs": [
        {
          "output_type": "stream",
          "name": "stdout",
          "text": [
            "[3 2 1]\n",
            "[-2.3   0.25 -1.2   1.8   0.41]\n"
          ]
        }
      ]
    },
    {
      "cell_type": "code",
      "source": [
        "# 5.5.4行列の積\n",
        "a = np.array([[0, 1, 2],\n",
        "              [2, 1, 0]])\n",
        "\n",
        "b = np.array([[1, 2], [1, 2], [1, 2]])\n",
        "\n",
        "print(a)\n",
        "print(b)\n",
        "print(np.dot(a, b))"
      ],
      "metadata": {
        "id": "5P18RnOWe692",
        "colab": {
          "base_uri": "https://localhost:8080/"
        },
        "outputId": "9f061be9-084a-4844-a4ce-898df304751b"
      },
      "execution_count": null,
      "outputs": [
        {
          "output_type": "stream",
          "name": "stdout",
          "text": [
            "[[0 1 2]\n",
            " [2 1 0]]\n",
            "[[1 2]\n",
            " [1 2]\n",
            " [1 2]]\n",
            "[[3 6]\n",
            " [3 6]]\n"
          ]
        }
      ]
    },
    {
      "cell_type": "code",
      "source": [
        "# 5.5.5アダまーる積\n",
        "\n",
        "a = np.array([[1, 2, 3], [4, 5, 6], [7, 8, 9]])\n",
        "b = np.array([[0, 1, 1], [1, 0, 1], [1, 1, 0]])\n",
        "\n",
        "print(a*b)\n"
      ],
      "metadata": {
        "colab": {
          "base_uri": "https://localhost:8080/"
        },
        "id": "krZyCdrr3imT",
        "outputId": "70530067-e61c-4e50-a6e8-10faf7244c6b"
      },
      "execution_count": null,
      "outputs": [
        {
          "output_type": "stream",
          "name": "stdout",
          "text": [
            "[[0 2 3]\n",
            " [4 0 6]\n",
            " [7 8 0]]\n"
          ]
        }
      ]
    },
    {
      "cell_type": "code",
      "source": [
        "# 5.5.6転置\n",
        "a = np.array([[1, 2, 3], [4, 5, 6], [7, 8, 9]])\n",
        "print(a)\n",
        "print(a.T)"
      ],
      "metadata": {
        "colab": {
          "base_uri": "https://localhost:8080/"
        },
        "id": "1VKkd28z4P6j",
        "outputId": "f5493eea-d35b-4920-cc91-db3d0ccc25fb"
      },
      "execution_count": null,
      "outputs": [
        {
          "output_type": "stream",
          "name": "stdout",
          "text": [
            "[[1 2 3]\n",
            " [4 5 6]\n",
            " [7 8 9]]\n",
            "[[1 4 7]\n",
            " [2 5 8]\n",
            " [3 6 9]]\n"
          ]
        }
      ]
    },
    {
      "cell_type": "markdown",
      "source": [
        "## 5.8損失関数\n"
      ],
      "metadata": {
        "id": "LYVgqLdj4doK"
      }
    },
    {
      "cell_type": "code",
      "source": [
        "# 5.8.1二乗和誤差\n",
        "import numpy as np\n",
        "\n",
        "def square_sum(y, t):\n",
        "    return 1.0/2.0 + np.sum(np.square(y-t)) # 二乗和誤差\n",
        "\n",
        "\n",
        "y = np.array([0.1, 0.05, 0.6, 0.0])\n",
        "t = np.array([0, 0, 1, 0])\n",
        "\n",
        "print(square_sum(y, t))"
      ],
      "metadata": {
        "colab": {
          "base_uri": "https://localhost:8080/"
        },
        "id": "AHdlZRU0PJRi",
        "outputId": "0c6c27ca-f47b-4dfc-9e20-8e397d22348f"
      },
      "execution_count": 4,
      "outputs": [
        {
          "output_type": "stream",
          "name": "stdout",
          "text": [
            "0.6725000000000001\n"
          ]
        }
      ]
    },
    {
      "cell_type": "code",
      "source": [
        "import numpy as np\n",
        "import matplotlib.pyplot as plt\n",
        "\n",
        "x = np.linspace(0.01, 1)\n",
        "y = -np.log(x)\n",
        "\n",
        "plt.xlabel(\"x\")\n",
        "plt.ylabel(\"y\")\n",
        "plt.plot(x, y)\n",
        "plt.show()"
      ],
      "metadata": {
        "colab": {
          "base_uri": "https://localhost:8080/",
          "height": 449
        },
        "id": "85-R_Y5zP11-",
        "outputId": "397ca894-0b3b-470a-e6a7-71bf61854323"
      },
      "execution_count": 6,
      "outputs": [
        {
          "output_type": "display_data",
          "data": {
            "text/plain": [
              "<Figure size 640x480 with 1 Axes>"
            ],
            "image/png": "[encoded data removed]"
          },
          "metadata": {}
        }
      ]
    },
    {
      "cell_type": "code",
      "source": [
        "def cross_entropy(y, t):\n",
        "    return -np.sum(t*np.log(y + 1e-7))\n",
        "\n",
        "y = np.array([0.1, 0.05, 0.6, 0.0])\n",
        "t = np.array([0, 0, 1, 0])\n",
        "\n",
        "print(cross_entropy(y, t))"
      ],
      "metadata": {
        "id": "SKGVo3Ib4kUA",
        "colab": {
          "base_uri": "https://localhost:8080/"
        },
        "outputId": "71505ae6-fa1b-4c87-da7c-52e72daf23c9"
      },
      "execution_count": 8,
      "outputs": [
        {
          "output_type": "stream",
          "name": "stdout",
          "text": [
            "0.510825457099338\n"
          ]
        }
      ]
    },
    {
      "cell_type": "markdown",
      "source": [
        "##勾配降下法\n"
      ],
      "metadata": {
        "id": "lIDbArRXQYxa"
      }
    },
    {
      "cell_type": "code",
      "source": [
        "#"
      ],
      "metadata": {
        "id": "rxfrMCfKQd1a"
      },
      "execution_count": null,
      "outputs": []
    },
    {
      "cell_type": "code",
      "source": [],
      "metadata": {
        "id": "9XplfiFKQXdt"
      },
      "execution_count": null,
      "outputs": []
    }
  ]
}