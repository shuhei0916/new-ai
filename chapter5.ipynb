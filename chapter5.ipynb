{
  "nbformat": 4,
  "nbformat_minor": 0,
  "metadata": {
    "colab": {
      "provenance": [],
      "authorship_tag": "ABX9TyO0tBgqIpWPNcLzZ9ueQOxy",
      "include_colab_link": true
    },
    "kernelspec": {
      "name": "python3",
      "display_name": "Python 3"
    },
    "language_info": {
      "name": "python"
    }
  },
  "cells": [
    {
      "cell_type": "markdown",
      "metadata": {
        "id": "view-in-github",
        "colab_type": "text"
      },
      "source": [
        "<a href=\"https://colab.research.google.com/github/shuhei0916/new-ai/blob/main/chapter5.ipynb\" target=\"_parent\"><img src=\"https://colab.research.google.com/assets/colab-badge.svg\" alt=\"Open In Colab\"/></a>"
      ]
    },
    {
      "cell_type": "markdown",
      "source": [
        "Chaptere5 ディープラーニングの理論\n",
        "#数学の基礎"
      ],
      "metadata": {
        "id": "M9o2MCc8X3xR"
      }
    },
    {
      "cell_type": "code",
      "execution_count": 3,
      "metadata": {
        "colab": {
          "base_uri": "https://localhost:8080/"
        },
        "id": "JfQqMnzQW1Ft",
        "outputId": "9d4c4e0c-3568-4886-d7d7-62100c4087f5"
      },
      "outputs": [
        {
          "output_type": "stream",
          "name": "stdout",
          "text": [
            "15\n"
          ]
        }
      ],
      "source": [
        "# 5.1.1 シグマを使った総和の表記\n",
        "import numpy as np\n",
        "\n",
        "a = np.array([1, 3, 2, 5, 4])\n",
        "y = np.sum(a)\n",
        "print(y)"
      ]
    },
    {
      "cell_type": "code",
      "source": [
        "# 5.1.2 ネイピア数e\n",
        "import numpy as np\n",
        "print(np.e)\n",
        "print(np.exp(1))"
      ],
      "metadata": {
        "colab": {
          "base_uri": "https://localhost:8080/"
        },
        "id": "bqeVLS9fXWSH",
        "outputId": "c66ebe01-b3e7-4c19-9efa-a03e8c775b50"
      },
      "execution_count": 4,
      "outputs": [
        {
          "output_type": "stream",
          "name": "stdout",
          "text": [
            "2.718281828459045\n",
            "2.718281828459045\n"
          ]
        }
      ]
    },
    {
      "cell_type": "code",
      "source": [
        "# 5.1.3 自然対数log\n",
        "import numpy as np\n",
        "print(np.log(np.e))\n",
        "print(np.log(np.exp(2)))\n",
        "print(np.log(np.exp(12)))"
      ],
      "metadata": {
        "colab": {
          "base_uri": "https://localhost:8080/"
        },
        "id": "XKmVzVxYXifj",
        "outputId": "0bbf513b-777d-4ac7-cc92-8288d327cc63"
      },
      "execution_count": 5,
      "outputs": [
        {
          "output_type": "stream",
          "name": "stdout",
          "text": [
            "1.0\n",
            "2.0\n",
            "12.0\n"
          ]
        }
      ]
    },
    {
      "cell_type": "markdown",
      "source": [
        "# 5.3 活性化関数"
      ],
      "metadata": {
        "id": "odQjd69jYz1Y"
      }
    },
    {
      "cell_type": "code",
      "source": [
        "# 5.3.1 ステップ関数\n",
        "import numpy as np\n",
        "import matplotlib.pyplot as plt\n",
        "\n",
        "def step_function(x):\n",
        "    return np.where(x<=0, 0, 1) # 0以外の場合は0, それ以外の場合は1を返す\n",
        "\n",
        "x = np.linspace(-5, 5)\n",
        "y = step_function(x)\n",
        "\n",
        "plt.plot(x, y)\n",
        "plt.show()"
      ],
      "metadata": {
        "colab": {
          "base_uri": "https://localhost:8080/",
          "height": 430
        },
        "id": "tSOny_nmYdGD",
        "outputId": "a9930397-7e26-47a6-ae71-e10cea9a0e67"
      },
      "execution_count": 6,
      "outputs": [
        {
          "output_type": "display_data",
          "data": {
            "text/plain": [
              "<Figure size 640x480 with 1 Axes>"
            ],
            "image/png": "[encoded data removed]"
          },
          "metadata": {}
        }
      ]
    },
    {
      "cell_type": "code",
      "source": [],
      "metadata": {
        "id": "c5YyADAcZRmd"
      },
      "execution_count": null,
      "outputs": []
    },
    {
      "cell_type": "code",
      "source": [],
      "metadata": {
        "id": "5z-_bw3mXzbr"
      },
      "execution_count": null,
      "outputs": []
    },
    {
      "cell_type": "code",
      "source": [],
      "metadata": {
        "id": "D193ZN4hXM9_"
      },
      "execution_count": null,
      "outputs": []
    },
    {
      "cell_type": "code",
      "source": [],
      "metadata": {
        "id": "9jY_VtZEW9rD"
      },
      "execution_count": null,
      "outputs": []
    }
  ]
}